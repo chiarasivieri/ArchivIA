{
  "nbformat": 4,
  "nbformat_minor": 0,
  "metadata": {
    "colab": {
      "provenance": []
    },
    "kernelspec": {
      "name": "python3",
      "display_name": "Python 3"
    },
    "language_info": {
      "name": "python"
    }
  },
  "cells": [
    {
      "cell_type": "code",
      "source": [
        "import os\n",
        "import cv2\n",
        "import glob"
      ],
      "metadata": {
        "id": "pes-0WnxH_K5"
      },
      "execution_count": 36,
      "outputs": []
    },
    {
      "cell_type": "code",
      "execution_count": 37,
      "metadata": {
        "colab": {
          "base_uri": "https://localhost:8080/"
        },
        "id": "wELiVxQRHlYT",
        "outputId": "7df19bde-e650-4241-805c-f38c58657c49"
      },
      "outputs": [
        {
          "output_type": "stream",
          "name": "stdout",
          "text": [
            "Drive already mounted at /content/drive; to attempt to forcibly remount, call drive.mount(\"/content/drive\", force_remount=True).\n",
            "Google Drive montato con successo!\n"
          ]
        }
      ],
      "source": [
        "# Montaggio di Google Drive\n",
        "from google.colab import drive\n",
        "drive.mount('/content/drive')\n",
        "\n",
        "print(\"Google Drive montato con successo!\")"
      ]
    },
    {
      "cell_type": "code",
      "source": [
        "# Cella [3] - Nuova Configurazione\n",
        "\n",
        "# Imposta la cartella che contiene i video di\n",
        "cartella_input_principale = \"/content/drive/MyDrive/PROGETTO/dataset/train/stum_interno_da_estrarre\"\n",
        "\n",
        "# Imposta la cartella di output finale dove andranno TUTTI i frame\n",
        "frame_estratti = \"/content/drive/MyDrive/PROGETTO/dataset/train/stum_interno\"\n",
        "\n",
        "if not os.path.exists(frame_estratti):\n",
        "    os.makedirs(frame_estratti)\n",
        "    print(f\"Cartella di output creata: {frame_estratti}\")\n",
        "else:\n",
        "    print(f\"Cartella di output già esistente: {frame_estratti}\")"
      ],
      "metadata": {
        "colab": {
          "base_uri": "https://localhost:8080/"
        },
        "id": "E1m8hAgZImmx",
        "outputId": "7ae6c04f-aefb-44b4-b20b-af532f6d8b57"
      },
      "execution_count": 38,
      "outputs": [
        {
          "output_type": "stream",
          "name": "stdout",
          "text": [
            "Cartella di output già esistente: /content/drive/MyDrive/PROGETTO/dataset/train/stum_interno\n"
          ]
        }
      ]
    },
    {
      "cell_type": "code",
      "source": [
        "# Logica di mappatura diretta delle cartelle\n",
        "try:\n",
        "    lista_sottocartelle = [d for d in os.listdir(cartella_input_principale) if os.path.isdir(os.path.join(cartella_input_principale, d))]\n",
        "    if not lista_sottocartelle:\n",
        "        print(\"ATTENZIONE: Nessuna sottocartella trovata in\", cartella_input_principale)\n",
        "    else:\n",
        "        print(f\"Trovate le seguenti sottocartelle da processare: {lista_sottocartelle}\")\n",
        "except FileNotFoundError:\n",
        "    print(f\"ERRORE: La cartella di input base non esiste: {cartella_input_principale}\")\n",
        "    lista_sottocartelle = []"
      ],
      "metadata": {
        "colab": {
          "base_uri": "https://localhost:8080/"
        },
        "id": "ARxhr_4dOlVe",
        "outputId": "add1f01d-4aae-463c-9d4c-64a2d20a9135"
      },
      "execution_count": 39,
      "outputs": [
        {
          "output_type": "stream",
          "name": "stdout",
          "text": [
            "Trovate le seguenti sottocartelle da processare: ['stum_interno']\n"
          ]
        }
      ]
    },
    {
      "cell_type": "code",
      "source": [
        "# Cella [5] - VERSIONE PER SALVARE TUTTO IN UNA CARTELLA\n",
        "\n",
        "import cv2\n",
        "import glob\n",
        "import os\n",
        "\n",
        "estensioni_video = ['*.mov', '*.MOV', '*.mp4', '*.MP4', '*.avi', '*.AVI', '*.mts', '*.MTS']\n",
        "\n",
        "print(f\"--- Inizio Estrazione Frame ---\")\n",
        "print(f\"Leggerò i video da: {cartella_input_principale}\")\n",
        "print(f\"Salverò TUTTI i frame in un'unica cartella: {frame_estratti}\")\n",
        "print(\"---------------------------------\")\n",
        "\n",
        "os.makedirs(frame_estratti, exist_ok=True)\n",
        "\n",
        "lista_video_completa = []\n",
        "for ext in estensioni_video:\n",
        "    percorso_ricerca = os.path.join(cartella_input_principale, ext)\n",
        "    lista_video_completa.extend(glob.glob(percorso_ricerca))\n",
        "\n",
        "if not lista_video_completa:\n",
        "    print(f\"!!! ATTENZIONE: Nessun file video trovato direttamente in '{cartella_input_principale}'\")\n",
        "else:\n",
        "    print(f\"Trovati {len(lista_video_completa)} video. Inizio l'elaborazione...\")\n",
        "\n",
        "    for percorso_video in lista_video_completa:\n",
        "        nome_file_video = os.path.basename(percorso_video)\n",
        "        nome_base_video = os.path.splitext(nome_file_video)[0]\n",
        "\n",
        "        print(f\"\\n-> Elaborazione video: {nome_file_video}\")\n",
        "\n",
        "        cap = cv2.VideoCapture(percorso_video)\n",
        "        if not cap.isOpened():\n",
        "            print(f\"   Errore: Impossibile aprire il video {nome_file_video}\")\n",
        "            continue\n",
        "\n",
        "        conteggio_frame_salvati = 0\n",
        "        while True:\n",
        "            success, frame = cap.read()\n",
        "            if not success:\n",
        "                break\n",
        "\n",
        "            # --- CAMBIAMENTO CHIAVE 1: Crea un nome file univoco ---\n",
        "            # Il nome del frame ora include il nome del video originale.\n",
        "            nome_frame_univoco = f\"{nome_base_video}_frame_{conteggio_frame_salvati:06d}.jpg\"\n",
        "\n",
        "            # --- CAMBIAMENTO CHIAVE 2: Salva nella cartella principale ---\n",
        "            # Il percorso di salvataggio punta direttamente alla cartella di output finale.\n",
        "            percorso_salvataggio_frame = os.path.join(frame_estratti, nome_frame_univoco)\n",
        "\n",
        "            cv2.imwrite(percorso_salvataggio_frame, frame)\n",
        "            conteggio_frame_salvati += 1\n",
        "\n",
        "        cap.release()\n",
        "        print(f\"   Completato. Salvati e aggiunti {conteggio_frame_salvati} frame alla cartella di output.\")\n",
        "\n",
        "print(\"\\n\\nLAVORO COMPLETATO. Tutti i frame sono stati salvati in un'unica cartella.\")"
      ],
      "metadata": {
        "id": "IBFFcZtAMORJ",
        "colab": {
          "base_uri": "https://localhost:8080/"
        },
        "outputId": "528cd89e-1c0f-4ee8-ba57-a51588fe9e94"
      },
      "execution_count": 40,
      "outputs": [
        {
          "output_type": "stream",
          "name": "stdout",
          "text": [
            "--- Inizio Estrazione Frame ---\n",
            "Leggerò i video da: /content/drive/MyDrive/PROGETTO/dataset/train/stum_interno_da_estrarre\n",
            "Salverò TUTTI i frame in un'unica cartella: /content/drive/MyDrive/PROGETTO/dataset/train/stum_interno\n",
            "---------------------------------\n",
            "Trovati 5 video. Inizio l'elaborazione...\n",
            "\n",
            "-> Elaborazione video: Stum_023.mov\n",
            "   Completato. Salvati e aggiunti 999 frame alla cartella di output.\n",
            "\n",
            "-> Elaborazione video: Stum_024.mov\n",
            "   Completato. Salvati e aggiunti 685 frame alla cartella di output.\n",
            "\n",
            "-> Elaborazione video: Stum18.MOV\n",
            "   Completato. Salvati e aggiunti 552 frame alla cartella di output.\n",
            "\n",
            "-> Elaborazione video: Stum16.MOV\n",
            "   Completato. Salvati e aggiunti 924 frame alla cartella di output.\n",
            "\n",
            "-> Elaborazione video: Stum17.MOV\n",
            "   Completato. Salvati e aggiunti 660 frame alla cartella di output.\n",
            "\n",
            "\n",
            "LAVORO COMPLETATO. Tutti i frame sono stati salvati in un'unica cartella.\n"
          ]
        }
      ]
    },
    {
      "cell_type": "code",
      "source": [
        "!ls \"/content/drive/MyDrive/PROGETTO/dataset/train/\""
      ],
      "metadata": {
        "colab": {
          "base_uri": "https://localhost:8080/"
        },
        "id": "DjRepP1FPx9Q",
        "outputId": "7b539196-411a-49aa-d221-b44ea199b539"
      },
      "execution_count": 41,
      "outputs": [
        {
          "output_type": "stream",
          "name": "stdout",
          "text": [
            "economia_interno  economia_interno_da_estrarre\tstum_interno_da_estrarre\n"
          ]
        }
      ]
    }
  ]
}